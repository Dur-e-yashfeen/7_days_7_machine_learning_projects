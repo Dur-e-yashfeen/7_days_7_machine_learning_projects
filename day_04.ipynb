{
  "nbformat": 4,
  "nbformat_minor": 0,
  "metadata": {
    "colab": {
      "provenance": [],
      "authorship_tag": "ABX9TyMNcy9FWRPNrT/9qK+ORF21",
      "include_colab_link": true
    },
    "kernelspec": {
      "name": "python3",
      "display_name": "Python 3"
    },
    "language_info": {
      "name": "python"
    }
  },
  "cells": [
    {
      "cell_type": "markdown",
      "metadata": {
        "id": "view-in-github",
        "colab_type": "text"
      },
      "source": [
        "<a href=\"https://colab.research.google.com/github/Dur-e-yashfeen/7_days_7_machine_learning_projects/blob/main/day_04.ipynb\" target=\"_parent\"><img src=\"https://colab.research.google.com/assets/colab-badge.svg\" alt=\"Open In Colab\"/></a>"
      ]
    },
    {
      "cell_type": "markdown",
      "source": [
        "# Encryption and Decreyption Using Fernet Symmetric Method"
      ],
      "metadata": {
        "id": "JzVpX4Enwz7n"
      }
    },
    {
      "cell_type": "markdown",
      "source": [
        "## 01.Importing Packages"
      ],
      "metadata": {
        "id": "RED_yGh2xKF_"
      }
    },
    {
      "cell_type": "code",
      "execution_count": null,
      "metadata": {
        "colab": {
          "base_uri": "https://localhost:8080/"
        },
        "id": "8-2-MI5_wh2S",
        "outputId": "d001e8be-1072-4f10-e448-a2ae24de1d69"
      },
      "outputs": [
        {
          "output_type": "stream",
          "name": "stdout",
          "text": [
            "Requirement already satisfied: cryptography in /usr/local/lib/python3.12/dist-packages (43.0.3)\n",
            "Requirement already satisfied: cffi>=1.12 in /usr/local/lib/python3.12/dist-packages (from cryptography) (2.0.0)\n",
            "Requirement already satisfied: pycparser in /usr/local/lib/python3.12/dist-packages (from cffi>=1.12->cryptography) (2.23)\n"
          ]
        }
      ],
      "source": [
        "!pip install cryptography"
      ]
    },
    {
      "cell_type": "code",
      "source": [
        "from cryptography.fernet import Fernet\n",
        "import os"
      ],
      "metadata": {
        "id": "5TP0HI89wrN-"
      },
      "execution_count": null,
      "outputs": []
    },
    {
      "cell_type": "markdown",
      "source": [
        "## 02.Generate Encrpytion Key"
      ],
      "metadata": {
        "id": "hk5UnEJ7xPkm"
      }
    },
    {
      "cell_type": "code",
      "source": [
        "def write_key(filename=\"encrypted.key\"):\n",
        "    key = Fernet.generate_key()\n",
        "    with open(filename, \"wb\") as key_file:   # colon fixed\n",
        "        key_file.write(key)                  # indentation fixed\n",
        "    print(filename)        # now part of the function"
      ],
      "metadata": {
        "id": "7_Y0402Axh-X"
      },
      "execution_count": null,
      "outputs": []
    },
    {
      "cell_type": "markdown",
      "source": [
        "## 03.Load generation key"
      ],
      "metadata": {
        "id": "F5BsaCab0zqY"
      }
    },
    {
      "cell_type": "code",
      "source": [
        "def load_key(filename=\"encrypted.key\"):\n",
        "    return open(filename, \"rb\").read()"
      ],
      "metadata": {
        "id": "LUE6idn8zuCX"
      },
      "execution_count": null,
      "outputs": []
    },
    {
      "cell_type": "markdown",
      "source": [
        "## 04.Encrypt File Using Fernet Symmetric Method"
      ],
      "metadata": {
        "id": "Wg2LG3LA1IDI"
      }
    },
    {
      "cell_type": "code",
      "source": [
        "def encrypt(input_file, filename=\"encrypted.key\"):\n",
        "  key = load_key(filename)\n",
        "  fernet = Fernet(key)\n",
        "\n",
        "  with open(input_file, \"rb\") as file:\n",
        "    file_data= file.read()\n",
        "\n",
        "  encrypted_file= fernet.encrypt(file_data)\n",
        "\n",
        "  encrypted_file = input_file + \".encrypted\"\n",
        "\n",
        "  with open(encrypted_file, \"wb\") as file:\n",
        "    file.write(encrypted_file)\n",
        "\n",
        "  print(input_file)"
      ],
      "metadata": {
        "id": "kfY9rfkK1DSI"
      },
      "execution_count": null,
      "outputs": []
    },
    {
      "cell_type": "markdown",
      "source": [
        "## 05.Decrypt file using fernet symmetric method"
      ],
      "metadata": {
        "id": "aM87xdqB3FRp"
      }
    },
    {
      "cell_type": "code",
      "source": [
        "def decrypt(input_file, filename=\"encrypted.key\"):\n",
        "  key = load_key(filename)\n",
        "  fernet = Fernet(key)\n",
        "\n",
        "  with open(input_file, \"rb\") as file:\n",
        "    encrypted_file= file.read()\n",
        "\n",
        "    decrypted_data= fernet.decrypt(encrypted_file)\n",
        "\n",
        "    decrypted_file = encrypted_file.replace(\".encrypted\", \".decrypted\")\n",
        "\n",
        "  with open(decrypted_file, \"wb\") as file:\n",
        "    file.write(decrypted_data)\n",
        "\n",
        "  print(decrypted_file)"
      ],
      "metadata": {
        "id": "NWbHx2ZG28-4"
      },
      "execution_count": null,
      "outputs": []
    },
    {
      "cell_type": "markdown",
      "source": [
        "### 06.Main Function"
      ],
      "metadata": {
        "id": "qsaKsQec4O6R"
      }
    },
    {
      "cell_type": "code",
      "source": [
        "def main():\n",
        "  print(\"1.Generate Key\")\n",
        "  print(\"2.Encrypt Message\")\n",
        "  print(\"3.Decrypt Message\")\n",
        "  choice=input(\"Choose From 1/2/3\")\n",
        "\n",
        "  if choice==\"1\":\n",
        "    filename=input(\"Enter key Name\")\n",
        "    key(filename)\n",
        "\n",
        "  elif choice==\"2\":\n",
        "    input_file=input(\"enter file path\")\n",
        "    filename=input(\"Enter key Name\")\n",
        "    encrypt(input_file,filename)\n",
        "\n",
        "  elif choice==\"3\":\n",
        "    encrypted_file=input(\"Enter Encrypted file Path\")\n",
        "    filename=input(\"Enter key Name\")\n",
        "    decrypt(encrypted_file,filename)\n",
        "\n",
        "  else:\n",
        "    print(\"Invalid Choice\")\n",
        "\n",
        "if __name__==\"__main__\":\n",
        "  main()\n",
        "\n"
      ],
      "metadata": {
        "id": "nkcNToDc4KwJ"
      },
      "execution_count": null,
      "outputs": []
    }
  ]
}