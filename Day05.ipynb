{
  "nbformat": 4,
  "nbformat_minor": 0,
  "metadata": {
    "colab": {
      "provenance": []
    },
    "kernelspec": {
      "name": "python3",
      "display_name": "Python 3"
    },
    "language_info": {
      "name": "python"
    }
  },
  "cells": [
    {
      "cell_type": "code",
      "source": [
        "# Install PKG\n",
        "!pip install nltk # Install natural language toolkit\n",
        "import nltk # natural language toolkit\n",
        "nltk.download('punkt')"
      ],
      "metadata": {
        "colab": {
          "base_uri": "https://localhost:8080/"
        },
        "id": "84AUeXbrkKXA",
        "outputId": "ae14fd0e-bdcb-41ec-f783-1a6d2243ffb3"
      },
      "execution_count": null,
      "outputs": [
        {
          "output_type": "stream",
          "name": "stdout",
          "text": [
            "Requirement already satisfied: nltk in /usr/local/lib/python3.12/dist-packages (3.9.1)\n",
            "Requirement already satisfied: click in /usr/local/lib/python3.12/dist-packages (from nltk) (8.3.0)\n",
            "Requirement already satisfied: joblib in /usr/local/lib/python3.12/dist-packages (from nltk) (1.5.2)\n",
            "Requirement already satisfied: regex>=2021.8.3 in /usr/local/lib/python3.12/dist-packages (from nltk) (2024.11.6)\n",
            "Requirement already satisfied: tqdm in /usr/local/lib/python3.12/dist-packages (from nltk) (4.67.1)\n"
          ]
        },
        {
          "output_type": "stream",
          "name": "stderr",
          "text": [
            "[nltk_data] Downloading package punkt to /root/nltk_data...\n",
            "[nltk_data]   Package punkt is already up-to-date!\n"
          ]
        },
        {
          "output_type": "execute_result",
          "data": {
            "text/plain": [
              "True"
            ]
          },
          "metadata": {},
          "execution_count": 8
        }
      ]
    },
    {
      "cell_type": "code",
      "source": [
        "from sklearn.feature_extraction.text import TfidfVectorizer\n",
        "from sklearn.metrics.pairwise import cosine_similarity\n",
        "import numpy as np\n",
        "import warnings\n",
        "warnings.filterwarnings('ignore')"
      ],
      "metadata": {
        "id": "N5wKfggkjhtR"
      },
      "execution_count": null,
      "outputs": []
    },
    {
      "cell_type": "code",
      "source": [
        "faq_data =[\n",
        "    {\n",
        "        \"question\": \"What are the hours of operation?\",\n",
        "        \"answer\": \"Our hours of operation are Monday to Friday, 9 AM to 5 PM.\"\n",
        "    },\n",
        "    {\n",
        "        \"question\": \"How can I contact customer support?\",\n",
        "        \"answer\": \"You can contact customer support via email at support@example.com or by calling 1-800-555-0199.\"\n",
        "    },\n",
        "    {\n",
        "        \"question\": \"What payment methods do you accept?\",\n",
        "        \"answer\": \"We accept Visa, MasterCard, American Express, and PayPal.\"\n",
        "    },\n",
        "    {\n",
        "        \"question\": \"What is the return policy?\",\n",
        "        \"answer\": \"You can return any item within 30 days of purchase for a full refund, as long as it is in its original condition.\"\n",
        "    },\n",
        "    {\n",
        "        \"question\": \"How do I reset my password?\",\n",
        "        \"answer\": \"To reset your password, go to the login page and click on 'Forgot Password?'. Follow the instructions sent to your registered email.\"\n",
        "    },\n",
        "    {\n",
        "        \"question\": \"Do you offer international shipping?\",\n",
        "        \"answer\": \"Yes, we offer international shipping to select countries. Please check our shipping policy for more details.\"\n",
        "    },\n",
        "    {\n",
        "        \"question\": \"How can I track my order?\",\n",
        "        \"answer\": \"You can track your order by entering your tracking number on our website under the 'Track Order' section.\"\n",
        "    },\n",
        "    {\n",
        "        \"question\": \"What should I do if I receive a damaged item?\",\n",
        "        \"answer\": \"If you receive a damaged item, please contact our customer support within 7 days of receiving it for assistance.\"\n",
        "    },\n",
        "    {\n",
        "        \"question\": \"Can I change my order after it has been placed?\",\n",
        "        \"answer\": \"Once an order is placed, it cannot be changed. However, you can cancel it and place a new one within 1 hour.\"\n",
        "    },\n",
        "    {\n",
        "        \"question\": \"What are your privacy policies?\",\n",
        "        \"answer\": \"We take your privacy seriously. Please read our Privacy Policy on our website for more information.\"\n",
        "    }\n",
        "]\n",
        "\n",
        "questions = [faq['question'] for faq in faq_data]\n",
        "answers = [faq['answer'] for faq in faq_data]"
      ],
      "metadata": {
        "id": "zy6DlFyVkBSR"
      },
      "execution_count": null,
      "outputs": []
    },
    {
      "cell_type": "code",
      "source": [
        "vectorizer = TfidfVectorizer()\n",
        "matrix = vectorizer.fit_transform(questions)\n",
        "\n",
        "def get_response(user_input, threshold=0.2):\n",
        "    user_input_vector = vectorizer.transform([user_input])\n",
        "    similarities = cosine_similarity(user_input_vector, matrix)\n",
        "    most_similar_index = np.argmax(similarities)\n",
        "    similarity_score = similarities[0][most_similar_index]\n",
        "\n",
        "    if similarity_score < threshold:\n",
        "        return \"I'm sorry, I don't have an answer for that question. Please contact support.\"\n",
        "    else:\n",
        "        return answers[most_similar_index]\n",
        "\n",
        "# Chat loop\n",
        "while True:\n",
        "    user_input = input(\"You: \")\n",
        "    if user_input.lower() == \"exit\":\n",
        "        print(\"Bot: Goodbye!\")\n",
        "        break\n",
        "    response = get_response(user_input)\n",
        "    print(\"Bot:\", response)"
      ],
      "metadata": {
        "colab": {
          "base_uri": "https://localhost:8080/"
        },
        "id": "kvh1cs0hlv2w",
        "outputId": "a4fd56eb-e7fe-4012-c1a7-262e3f022124"
      },
      "execution_count": null,
      "outputs": [
        {
          "output_type": "stream",
          "name": "stdout",
          "text": [
            "You: \"What is the return policy?\n",
            "Bot: You can return any item within 30 days of purchase for a full refund, as long as it is in its original condition.\n",
            "You: What should I do if I receive a damaged item?\n",
            "Bot: If you receive a damaged item, please contact our customer support within 7 days of receiving it for assistance.\n",
            "You: exit\n",
            "Bot: Goodbye!\n"
          ]
        }
      ]
    },
    {
      "cell_type": "code",
      "source": [],
      "metadata": {
        "id": "UPAUUFO4nlFe"
      },
      "execution_count": null,
      "outputs": []
    }
  ]
}