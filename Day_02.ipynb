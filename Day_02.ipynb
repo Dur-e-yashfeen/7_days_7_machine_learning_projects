{
  "metadata": {
    "kernelspec": {
      "name": "python3",
      "display_name": "Python 3"
    },
    "language_info": {
      "name": "python",
      "version": "3.11.13",
      "mimetype": "text/x-python",
      "codemirror_mode": {
        "name": "ipython",
        "version": 3
      },
      "pygments_lexer": "ipython3",
      "nbconvert_exporter": "python",
      "file_extension": ".py"
    },
    "colab": {
      "provenance": [],
      "name": "Day_02",
      "include_colab_link": true
    },
    "kaggle": {
      "accelerator": "none",
      "dataSources": [
        {
          "sourceId": 1825821,
          "sourceType": "datasetVersion",
          "datasetId": 1084909
        }
      ],
      "dockerImageVersionId": 31089,
      "isInternetEnabled": true,
      "language": "python",
      "sourceType": "notebook",
      "isGpuEnabled": false
    }
  },
  "nbformat_minor": 0,
  "nbformat": 4,
  "cells": [
    {
      "cell_type": "markdown",
      "metadata": {
        "id": "view-in-github",
        "colab_type": "text"
      },
      "source": [
        "<a href=\"https://colab.research.google.com/github/Dur-e-yashfeen/7_days_7_machine_learning_projects/blob/main/Day_02.ipynb\" target=\"_parent\"><img src=\"https://colab.research.google.com/assets/colab-badge.svg\" alt=\"Open In Colab\"/></a>"
      ]
    },
    {
      "source": [
        "# IMPORTANT: RUN THIS CELL IN ORDER TO IMPORT YOUR KAGGLE DATA SOURCES,\n",
        "# THEN FEEL FREE TO DELETE THIS CELL.\n",
        "# NOTE: THIS NOTEBOOK ENVIRONMENT DIFFERS FROM KAGGLE'S PYTHON\n",
        "# ENVIRONMENT SO THERE MAY BE MISSING LIBRARIES USED BY YOUR\n",
        "# NOTEBOOK.\n",
        "import kagglehub\n",
        "rezaunderfit_instagram_fake_and_real_accounts_dataset_path = kagglehub.dataset_download('rezaunderfit/instagram-fake-and-real-accounts-dataset')\n",
        "\n",
        "print('Data source import complete.')\n"
      ],
      "metadata": {
        "id": "kl9-CXYcG4Fz"
      },
      "cell_type": "code",
      "outputs": [],
      "execution_count": null
    },
    {
      "cell_type": "markdown",
      "source": [
        "# Instagram Fake Account Dectection Using Logistic Regression\n",
        "### Author Dur_e_Yashfeen"
      ],
      "metadata": {
        "id": "iq8W_zaqx12R"
      }
    },
    {
      "cell_type": "markdown",
      "source": [
        "## 01.Important Packages"
      ],
      "metadata": {
        "id": "zFhk88WLyHZY"
      }
    },
    {
      "cell_type": "code",
      "source": [
        "import pandas as pd\n",
        "# for machine learning\n",
        "from sklearn.linear_model import LogisticRegression\n",
        "from sklearn.model_selection import train_test_split\n",
        "from sklearn.preprocessing import StandardScaler\n",
        "from sklearn.metrics import accuracy_score\n",
        "# For Save Model\n",
        "import pickle\n",
        "# fOR unwanted Warnings\n",
        "import warnings\n",
        "warnings.filterwarnings('ignore')"
      ],
      "metadata": {
        "id": "liGzqrYHxQbP",
        "trusted": true,
        "execution": {
          "iopub.status.busy": "2025-09-25T04:06:52.004412Z",
          "iopub.execute_input": "2025-09-25T04:06:52.004798Z",
          "iopub.status.idle": "2025-09-25T04:06:52.010523Z",
          "shell.execute_reply.started": "2025-09-25T04:06:52.004768Z",
          "shell.execute_reply": "2025-09-25T04:06:52.009388Z"
        }
      },
      "outputs": [],
      "execution_count": null
    },
    {
      "cell_type": "markdown",
      "source": [
        "## 02.Load the data"
      ],
      "metadata": {
        "id": "lGfT6VsTG4GK"
      }
    },
    {
      "cell_type": "code",
      "source": [
        "df = pd.read_csv(\"/kaggle/input/instagram-fake-and-real-accounts-dataset/final-v1.csv\")"
      ],
      "metadata": {
        "id": "TWxPoQSYpT6c",
        "trusted": true,
        "execution": {
          "iopub.status.busy": "2025-09-25T04:07:39.759624Z",
          "iopub.execute_input": "2025-09-25T04:07:39.760403Z",
          "iopub.status.idle": "2025-09-25T04:07:39.772544Z",
          "shell.execute_reply.started": "2025-09-25T04:07:39.760366Z",
          "shell.execute_reply": "2025-09-25T04:07:39.771473Z"
        }
      },
      "outputs": [],
      "execution_count": null
    },
    {
      "cell_type": "code",
      "source": [
        "df.head(3)"
      ],
      "metadata": {
        "trusted": true,
        "execution": {
          "iopub.status.busy": "2025-09-25T04:07:50.956747Z",
          "iopub.execute_input": "2025-09-25T04:07:50.957712Z",
          "iopub.status.idle": "2025-09-25T04:07:50.971108Z",
          "shell.execute_reply.started": "2025-09-25T04:07:50.957675Z",
          "shell.execute_reply": "2025-09-25T04:07:50.970256Z"
        },
        "id": "rn9rFaduG4GN",
        "outputId": "72e7b558-3171-4bc6-e33d-1f4036bbfc0c"
      },
      "outputs": [
        {
          "execution_count": 27,
          "output_type": "execute_result",
          "data": {
            "text/plain": "   edge_followed_by  edge_follow  username_length  username_has_number  \\\n0             0.001        0.257               13                    1   \n1             0.000        0.958                9                    1   \n2             0.000        0.253               12                    0   \n\n   full_name_has_number  full_name_length  is_private  is_joined_recently  \\\n0                     1                13           0                   0   \n1                     0                 0           0                   1   \n2                     0                 0           0                   0   \n\n   has_channel  is_business_account  has_guides  has_external_url  is_fake  \n0            0                    0           0                 0        1  \n1            0                    0           0                 0        1  \n2            0                    0           0                 0        1  ",
            "text/html": "<div>\n<style scoped>\n    .dataframe tbody tr th:only-of-type {\n        vertical-align: middle;\n    }\n\n    .dataframe tbody tr th {\n        vertical-align: top;\n    }\n\n    .dataframe thead th {\n        text-align: right;\n    }\n</style>\n<table border=\"1\" class=\"dataframe\">\n  <thead>\n    <tr style=\"text-align: right;\">\n      <th></th>\n      <th>edge_followed_by</th>\n      <th>edge_follow</th>\n      <th>username_length</th>\n      <th>username_has_number</th>\n      <th>full_name_has_number</th>\n      <th>full_name_length</th>\n      <th>is_private</th>\n      <th>is_joined_recently</th>\n      <th>has_channel</th>\n      <th>is_business_account</th>\n      <th>has_guides</th>\n      <th>has_external_url</th>\n      <th>is_fake</th>\n    </tr>\n  </thead>\n  <tbody>\n    <tr>\n      <th>0</th>\n      <td>0.001</td>\n      <td>0.257</td>\n      <td>13</td>\n      <td>1</td>\n      <td>1</td>\n      <td>13</td>\n      <td>0</td>\n      <td>0</td>\n      <td>0</td>\n      <td>0</td>\n      <td>0</td>\n      <td>0</td>\n      <td>1</td>\n    </tr>\n    <tr>\n      <th>1</th>\n      <td>0.000</td>\n      <td>0.958</td>\n      <td>9</td>\n      <td>1</td>\n      <td>0</td>\n      <td>0</td>\n      <td>0</td>\n      <td>1</td>\n      <td>0</td>\n      <td>0</td>\n      <td>0</td>\n      <td>0</td>\n      <td>1</td>\n    </tr>\n    <tr>\n      <th>2</th>\n      <td>0.000</td>\n      <td>0.253</td>\n      <td>12</td>\n      <td>0</td>\n      <td>0</td>\n      <td>0</td>\n      <td>0</td>\n      <td>0</td>\n      <td>0</td>\n      <td>0</td>\n      <td>0</td>\n      <td>0</td>\n      <td>1</td>\n    </tr>\n  </tbody>\n</table>\n</div>"
          },
          "metadata": {}
        }
      ],
      "execution_count": null
    },
    {
      "cell_type": "code",
      "source": [
        "df.tail(3)"
      ],
      "metadata": {
        "trusted": true,
        "execution": {
          "iopub.status.busy": "2025-09-25T04:08:19.642555Z",
          "iopub.execute_input": "2025-09-25T04:08:19.642944Z",
          "iopub.status.idle": "2025-09-25T04:08:19.656928Z",
          "shell.execute_reply.started": "2025-09-25T04:08:19.642913Z",
          "shell.execute_reply": "2025-09-25T04:08:19.655973Z"
        },
        "id": "e4I7KuG5G4GQ",
        "outputId": "b4b443fe-6c65-4af8-83e9-aae8422e7ff7"
      },
      "outputs": [
        {
          "execution_count": 28,
          "output_type": "execute_result",
          "data": {
            "text/plain": "     edge_followed_by  edge_follow  username_length  username_has_number  \\\n782               0.0        0.115                9                    0   \n783               0.0        0.049               12                    0   \n784               0.0        0.096               11                    0   \n\n     full_name_has_number  full_name_length  is_private  is_joined_recently  \\\n782                     0                 8           1                   0   \n783                     0                28           1                   0   \n784                     0                 0           1                   0   \n\n     has_channel  is_business_account  has_guides  has_external_url  is_fake  \n782            0                    0           0                 0        0  \n783            0                    0           0                 0        0  \n784            0                    0           0                 0        0  ",
            "text/html": "<div>\n<style scoped>\n    .dataframe tbody tr th:only-of-type {\n        vertical-align: middle;\n    }\n\n    .dataframe tbody tr th {\n        vertical-align: top;\n    }\n\n    .dataframe thead th {\n        text-align: right;\n    }\n</style>\n<table border=\"1\" class=\"dataframe\">\n  <thead>\n    <tr style=\"text-align: right;\">\n      <th></th>\n      <th>edge_followed_by</th>\n      <th>edge_follow</th>\n      <th>username_length</th>\n      <th>username_has_number</th>\n      <th>full_name_has_number</th>\n      <th>full_name_length</th>\n      <th>is_private</th>\n      <th>is_joined_recently</th>\n      <th>has_channel</th>\n      <th>is_business_account</th>\n      <th>has_guides</th>\n      <th>has_external_url</th>\n      <th>is_fake</th>\n    </tr>\n  </thead>\n  <tbody>\n    <tr>\n      <th>782</th>\n      <td>0.0</td>\n      <td>0.115</td>\n      <td>9</td>\n      <td>0</td>\n      <td>0</td>\n      <td>8</td>\n      <td>1</td>\n      <td>0</td>\n      <td>0</td>\n      <td>0</td>\n      <td>0</td>\n      <td>0</td>\n      <td>0</td>\n    </tr>\n    <tr>\n      <th>783</th>\n      <td>0.0</td>\n      <td>0.049</td>\n      <td>12</td>\n      <td>0</td>\n      <td>0</td>\n      <td>28</td>\n      <td>1</td>\n      <td>0</td>\n      <td>0</td>\n      <td>0</td>\n      <td>0</td>\n      <td>0</td>\n      <td>0</td>\n    </tr>\n    <tr>\n      <th>784</th>\n      <td>0.0</td>\n      <td>0.096</td>\n      <td>11</td>\n      <td>0</td>\n      <td>0</td>\n      <td>0</td>\n      <td>1</td>\n      <td>0</td>\n      <td>0</td>\n      <td>0</td>\n      <td>0</td>\n      <td>0</td>\n      <td>0</td>\n    </tr>\n  </tbody>\n</table>\n</div>"
          },
          "metadata": {}
        }
      ],
      "execution_count": null
    },
    {
      "cell_type": "code",
      "source": [
        "df.info()"
      ],
      "metadata": {
        "trusted": true,
        "execution": {
          "iopub.status.busy": "2025-09-25T04:08:36.620608Z",
          "iopub.execute_input": "2025-09-25T04:08:36.620971Z",
          "iopub.status.idle": "2025-09-25T04:08:36.632304Z",
          "shell.execute_reply.started": "2025-09-25T04:08:36.620933Z",
          "shell.execute_reply": "2025-09-25T04:08:36.631331Z"
        },
        "id": "bdofeWXDG4GS",
        "outputId": "5063e6a6-5287-41b1-a3bb-f49a33a415c0"
      },
      "outputs": [
        {
          "name": "stdout",
          "text": "<class 'pandas.core.frame.DataFrame'>\nRangeIndex: 785 entries, 0 to 784\nData columns (total 13 columns):\n #   Column                Non-Null Count  Dtype  \n---  ------                --------------  -----  \n 0   edge_followed_by      785 non-null    float64\n 1   edge_follow           785 non-null    float64\n 2   username_length       785 non-null    int64  \n 3   username_has_number   785 non-null    int64  \n 4   full_name_has_number  785 non-null    int64  \n 5   full_name_length      785 non-null    int64  \n 6   is_private            785 non-null    int64  \n 7   is_joined_recently    785 non-null    int64  \n 8   has_channel           785 non-null    int64  \n 9   is_business_account   785 non-null    int64  \n 10  has_guides            785 non-null    int64  \n 11  has_external_url      785 non-null    int64  \n 12  is_fake               785 non-null    int64  \ndtypes: float64(2), int64(11)\nmemory usage: 79.9 KB\n",
          "output_type": "stream"
        }
      ],
      "execution_count": null
    },
    {
      "cell_type": "code",
      "source": [
        "df.isnull().sum()"
      ],
      "metadata": {
        "trusted": true,
        "execution": {
          "iopub.status.busy": "2025-09-25T04:08:59.192714Z",
          "iopub.execute_input": "2025-09-25T04:08:59.193059Z",
          "iopub.status.idle": "2025-09-25T04:08:59.201885Z",
          "shell.execute_reply.started": "2025-09-25T04:08:59.193037Z",
          "shell.execute_reply": "2025-09-25T04:08:59.200923Z"
        },
        "id": "D_J5bL7hG4GT",
        "outputId": "c2e544a1-d98f-4657-dc4b-91a716a61a09"
      },
      "outputs": [
        {
          "execution_count": 31,
          "output_type": "execute_result",
          "data": {
            "text/plain": "edge_followed_by        0\nedge_follow             0\nusername_length         0\nusername_has_number     0\nfull_name_has_number    0\nfull_name_length        0\nis_private              0\nis_joined_recently      0\nhas_channel             0\nis_business_account     0\nhas_guides              0\nhas_external_url        0\nis_fake                 0\ndtype: int64"
          },
          "metadata": {}
        }
      ],
      "execution_count": null
    },
    {
      "cell_type": "markdown",
      "source": [
        "## 03.Feature Selection"
      ],
      "metadata": {
        "id": "XXWOCUBMG4GU"
      }
    },
    {
      "cell_type": "code",
      "source": [
        "x = df.drop(columns=[\"is_fake\"]) #feature\n",
        "y = df[\"is_fake\"] #target\n"
      ],
      "metadata": {
        "trusted": true,
        "execution": {
          "iopub.status.busy": "2025-09-25T04:10:40.610764Z",
          "iopub.execute_input": "2025-09-25T04:10:40.611121Z",
          "iopub.status.idle": "2025-09-25T04:10:40.617676Z",
          "shell.execute_reply.started": "2025-09-25T04:10:40.611095Z",
          "shell.execute_reply": "2025-09-25T04:10:40.616651Z"
        },
        "id": "X9tysAlVG4GU"
      },
      "outputs": [],
      "execution_count": null
    },
    {
      "cell_type": "markdown",
      "source": [
        "## 04.Train the Model"
      ],
      "metadata": {
        "id": "wIxRl38jG4GU"
      }
    },
    {
      "cell_type": "code",
      "source": [
        "xtrain, xtest, ytrain, ytest = train_test_split(\n",
        "    X, y, test_size=0.2, random_state=42\n",
        ")\n",
        "\n",
        "scaler = StandardScaler()\n",
        "xtrain=scaler.fit_transform(xtrain)\n",
        "ytest=scaler.fit_transform(xtest)\n",
        "\n",
        "model = LogisticRegression()\n",
        "model.fit(xtrain,ytrain)"
      ],
      "metadata": {
        "trusted": true,
        "execution": {
          "iopub.status.busy": "2025-09-25T04:18:42.534016Z",
          "iopub.execute_input": "2025-09-25T04:18:42.534418Z",
          "iopub.status.idle": "2025-09-25T04:18:42.717675Z",
          "shell.execute_reply.started": "2025-09-25T04:18:42.53439Z",
          "shell.execute_reply": "2025-09-25T04:18:42.715644Z"
        },
        "id": "9GN3ONDWG4GV",
        "outputId": "e9dc79c8-b89b-4e6d-f127-47edb0fe5ac0"
      },
      "outputs": [
        {
          "execution_count": 35,
          "output_type": "execute_result",
          "data": {
            "text/plain": "LogisticRegression()",
            "text/html": "<style>#sk-container-id-3 {color: black;background-color: white;}#sk-container-id-3 pre{padding: 0;}#sk-container-id-3 div.sk-toggleable {background-color: white;}#sk-container-id-3 label.sk-toggleable__label {cursor: pointer;display: block;width: 100%;margin-bottom: 0;padding: 0.3em;box-sizing: border-box;text-align: center;}#sk-container-id-3 label.sk-toggleable__label-arrow:before {content: \"▸\";float: left;margin-right: 0.25em;color: #696969;}#sk-container-id-3 label.sk-toggleable__label-arrow:hover:before {color: black;}#sk-container-id-3 div.sk-estimator:hover label.sk-toggleable__label-arrow:before {color: black;}#sk-container-id-3 div.sk-toggleable__content {max-height: 0;max-width: 0;overflow: hidden;text-align: left;background-color: #f0f8ff;}#sk-container-id-3 div.sk-toggleable__content pre {margin: 0.2em;color: black;border-radius: 0.25em;background-color: #f0f8ff;}#sk-container-id-3 input.sk-toggleable__control:checked~div.sk-toggleable__content {max-height: 200px;max-width: 100%;overflow: auto;}#sk-container-id-3 input.sk-toggleable__control:checked~label.sk-toggleable__label-arrow:before {content: \"▾\";}#sk-container-id-3 div.sk-estimator input.sk-toggleable__control:checked~label.sk-toggleable__label {background-color: #d4ebff;}#sk-container-id-3 div.sk-label input.sk-toggleable__control:checked~label.sk-toggleable__label {background-color: #d4ebff;}#sk-container-id-3 input.sk-hidden--visually {border: 0;clip: rect(1px 1px 1px 1px);clip: rect(1px, 1px, 1px, 1px);height: 1px;margin: -1px;overflow: hidden;padding: 0;position: absolute;width: 1px;}#sk-container-id-3 div.sk-estimator {font-family: monospace;background-color: #f0f8ff;border: 1px dotted black;border-radius: 0.25em;box-sizing: border-box;margin-bottom: 0.5em;}#sk-container-id-3 div.sk-estimator:hover {background-color: #d4ebff;}#sk-container-id-3 div.sk-parallel-item::after {content: \"\";width: 100%;border-bottom: 1px solid gray;flex-grow: 1;}#sk-container-id-3 div.sk-label:hover label.sk-toggleable__label {background-color: #d4ebff;}#sk-container-id-3 div.sk-serial::before {content: \"\";position: absolute;border-left: 1px solid gray;box-sizing: border-box;top: 0;bottom: 0;left: 50%;z-index: 0;}#sk-container-id-3 div.sk-serial {display: flex;flex-direction: column;align-items: center;background-color: white;padding-right: 0.2em;padding-left: 0.2em;position: relative;}#sk-container-id-3 div.sk-item {position: relative;z-index: 1;}#sk-container-id-3 div.sk-parallel {display: flex;align-items: stretch;justify-content: center;background-color: white;position: relative;}#sk-container-id-3 div.sk-item::before, #sk-container-id-3 div.sk-parallel-item::before {content: \"\";position: absolute;border-left: 1px solid gray;box-sizing: border-box;top: 0;bottom: 0;left: 50%;z-index: -1;}#sk-container-id-3 div.sk-parallel-item {display: flex;flex-direction: column;z-index: 1;position: relative;background-color: white;}#sk-container-id-3 div.sk-parallel-item:first-child::after {align-self: flex-end;width: 50%;}#sk-container-id-3 div.sk-parallel-item:last-child::after {align-self: flex-start;width: 50%;}#sk-container-id-3 div.sk-parallel-item:only-child::after {width: 0;}#sk-container-id-3 div.sk-dashed-wrapped {border: 1px dashed gray;margin: 0 0.4em 0.5em 0.4em;box-sizing: border-box;padding-bottom: 0.4em;background-color: white;}#sk-container-id-3 div.sk-label label {font-family: monospace;font-weight: bold;display: inline-block;line-height: 1.2em;}#sk-container-id-3 div.sk-label-container {text-align: center;}#sk-container-id-3 div.sk-container {/* jupyter's `normalize.less` sets `[hidden] { display: none; }` but bootstrap.min.css set `[hidden] { display: none !important; }` so we also need the `!important` here to be able to override the default hidden behavior on the sphinx rendered scikit-learn.org. See: https://github.com/scikit-learn/scikit-learn/issues/21755 */display: inline-block !important;position: relative;}#sk-container-id-3 div.sk-text-repr-fallback {display: none;}</style><div id=\"sk-container-id-3\" class=\"sk-top-container\"><div class=\"sk-text-repr-fallback\"><pre>LogisticRegression()</pre><b>In a Jupyter environment, please rerun this cell to show the HTML representation or trust the notebook. <br />On GitHub, the HTML representation is unable to render, please try loading this page with nbviewer.org.</b></div><div class=\"sk-container\" hidden><div class=\"sk-item\"><div class=\"sk-estimator sk-toggleable\"><input class=\"sk-toggleable__control sk-hidden--visually\" id=\"sk-estimator-id-3\" type=\"checkbox\" checked><label for=\"sk-estimator-id-3\" class=\"sk-toggleable__label sk-toggleable__label-arrow\">LogisticRegression</label><div class=\"sk-toggleable__content\"><pre>LogisticRegression()</pre></div></div></div></div></div>"
          },
          "metadata": {}
        }
      ],
      "execution_count": null
    },
    {
      "cell_type": "markdown",
      "source": [
        "## 05.Accuracy Score"
      ],
      "metadata": {
        "id": "Ayh8GoQvG4GV"
      }
    },
    {
      "cell_type": "code",
      "source": [
        "pred = model.predict(xtest)\n",
        "print(pred)"
      ],
      "metadata": {
        "trusted": true,
        "execution": {
          "iopub.status.busy": "2025-09-25T04:20:05.870897Z",
          "iopub.execute_input": "2025-09-25T04:20:05.871908Z",
          "iopub.status.idle": "2025-09-25T04:20:05.879932Z",
          "shell.execute_reply.started": "2025-09-25T04:20:05.871865Z",
          "shell.execute_reply": "2025-09-25T04:20:05.878867Z"
        },
        "id": "N0BoMwBSG4GV",
        "outputId": "c0436078-bcaa-4b9c-b274-b2d3e4ed1f98"
      },
      "outputs": [
        {
          "name": "stdout",
          "text": "[0 0 1 1 1 0 1 1 0 1 1 1 1 1 1 0 1 1 1 0 1 1 1 1 1 1 1 1 0 1 1 1 1 1 1 1 1\n 1 1 0 1 1 1 0 1 0 1 1 1 1 1 0 1 1 1 1 1 1 1 1 1 1 1 1 1 1 1 1 1 0 1 1 1 1\n 1 1 1 1 1 1 1 1 0 1 1 1 1 1 0 1 1 1 1 1 1 1 0 0 1 1 0 1 1 1 0 1 0 1 1 1 1\n 1 1 1 1 1 1 1 1 0 1 1 1 1 1 1 1 1 1 0 1 1 1 1 1 1 1 1 1 1 1 1 1 1 1 1 0 1\n 1 1 1 1 1 0 1 1 1]\n",
          "output_type": "stream"
        }
      ],
      "execution_count": null
    },
    {
      "cell_type": "markdown",
      "source": [
        "## 06.Model Save"
      ],
      "metadata": {
        "id": "8pg83WJ3G4GW"
      }
    },
    {
      "cell_type": "code",
      "source": [
        "pickle.dump(model, open('fa_dec.pkl', 'wb'))"
      ],
      "metadata": {
        "trusted": true,
        "id": "RIUmDrlEG4GW"
      },
      "outputs": [],
      "execution_count": null
    }
  ]
}