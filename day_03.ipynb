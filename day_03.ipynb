{
  "metadata": {
    "kernelspec": {
      "language": "python",
      "display_name": "Python 3",
      "name": "python3"
    },
    "language_info": {
      "name": "python",
      "version": "3.11.13",
      "mimetype": "text/x-python",
      "codemirror_mode": {
        "name": "ipython",
        "version": 3
      },
      "pygments_lexer": "ipython3",
      "nbconvert_exporter": "python",
      "file_extension": ".py"
    },
    "kaggle": {
      "accelerator": "none",
      "dataSources": [
        {
          "sourceId": 975216,
          "sourceType": "datasetVersion",
          "datasetId": 532277
        }
      ],
      "dockerImageVersionId": 31089,
      "isInternetEnabled": true,
      "language": "python",
      "sourceType": "notebook",
      "isGpuEnabled": false
    },
    "colab": {
      "name": "day_03",
      "provenance": [],
      "include_colab_link": true
    }
  },
  "nbformat_minor": 0,
  "nbformat": 4,
  "cells": [
    {
      "cell_type": "markdown",
      "metadata": {
        "id": "view-in-github",
        "colab_type": "text"
      },
      "source": [
        "<a href=\"https://colab.research.google.com/github/Dur-e-yashfeen/7_days_7_machine_learning_projects/blob/main/day_03.ipynb\" target=\"_parent\"><img src=\"https://colab.research.google.com/assets/colab-badge.svg\" alt=\"Open In Colab\"/></a>"
      ]
    },
    {
      "source": [
        "# IMPORTANT: RUN THIS CELL IN ORDER TO IMPORT YOUR KAGGLE DATA SOURCES,\n",
        "# THEN FEEL FREE TO DELETE THIS CELL.\n",
        "# NOTE: THIS NOTEBOOK ENVIRONMENT DIFFERS FROM KAGGLE'S PYTHON\n",
        "# ENVIRONMENT SO THERE MAY BE MISSING LIBRARIES USED BY YOUR\n",
        "# NOTEBOOK.\n",
        "import kagglehub\n",
        "eswarchandt_phishing_website_detector_path = kagglehub.dataset_download('eswarchandt/phishing-website-detector')\n",
        "\n",
        "print('Data source import complete.')\n"
      ],
      "metadata": {
        "id": "lZFHd4IUBvGa"
      },
      "cell_type": "code",
      "outputs": [],
      "execution_count": null
    },
    {
      "cell_type": "markdown",
      "source": [
        "# Phishing Websites Prediction Using RandomForest\n",
        "### Author : Dur e Yashfeen"
      ],
      "metadata": {
        "id": "nSr-1appBvGf"
      }
    },
    {
      "cell_type": "markdown",
      "source": [
        "## 01.Importing Libraries"
      ],
      "metadata": {
        "id": "3ccSTve1BvGh"
      }
    },
    {
      "cell_type": "code",
      "source": [
        "import pandas as pd\n",
        "from sklearn.ensemble import RandomForestClassifier\n",
        "from sklearn.model_selection import train_test_split\n",
        "\n",
        "from sklearn.metrics import accuracy_score\n",
        "from sklearn.preprocessing import StandardScaler\n",
        "# For Save Model\n",
        "import pickle\n",
        "# fOR unwanted Warnings\n",
        "import warnings\n",
        "warnings.filterwarnings('ignore')"
      ],
      "metadata": {
        "trusted": true,
        "execution": {
          "iopub.status.busy": "2025-09-25T06:29:29.576666Z",
          "iopub.execute_input": "2025-09-25T06:29:29.57698Z",
          "iopub.status.idle": "2025-09-25T06:29:31.202923Z",
          "shell.execute_reply.started": "2025-09-25T06:29:29.576956Z",
          "shell.execute_reply": "2025-09-25T06:29:31.201697Z"
        },
        "id": "oDelWMsUBvGi"
      },
      "outputs": [],
      "execution_count": null
    },
    {
      "cell_type": "markdown",
      "source": [
        "## 02.Load the data"
      ],
      "metadata": {
        "id": "CVkex5uEBvGj"
      }
    },
    {
      "cell_type": "code",
      "source": [
        "df = pd.read_csv(\"/kaggle/input/phishing-website-detector/phishing.csv\")"
      ],
      "metadata": {
        "trusted": true,
        "execution": {
          "iopub.status.busy": "2025-09-25T06:29:35.618396Z",
          "iopub.execute_input": "2025-09-25T06:29:35.618987Z",
          "iopub.status.idle": "2025-09-25T06:29:35.694105Z",
          "shell.execute_reply.started": "2025-09-25T06:29:35.618958Z",
          "shell.execute_reply": "2025-09-25T06:29:35.69309Z"
        },
        "id": "v1jqnaI1BvGj"
      },
      "outputs": [],
      "execution_count": null
    },
    {
      "cell_type": "code",
      "source": [
        "df.head(3)"
      ],
      "metadata": {
        "trusted": true,
        "execution": {
          "iopub.status.busy": "2025-09-25T06:29:38.788439Z",
          "iopub.execute_input": "2025-09-25T06:29:38.788794Z",
          "iopub.status.idle": "2025-09-25T06:29:38.820992Z",
          "shell.execute_reply.started": "2025-09-25T06:29:38.788762Z",
          "shell.execute_reply": "2025-09-25T06:29:38.82008Z"
        },
        "id": "WoukhmwuBvGk",
        "outputId": "6643f026-ff66-4147-c192-59b33f8c1fb9"
      },
      "outputs": [
        {
          "execution_count": 3,
          "output_type": "execute_result",
          "data": {
            "text/plain": "   Index  UsingIP  LongURL  ShortURL  Symbol@  Redirecting//  PrefixSuffix-  \\\n0      0        1        1         1        1              1             -1   \n1      1        1        0         1        1              1             -1   \n2      2        1        0         1        1              1             -1   \n\n   SubDomains  HTTPS  DomainRegLen  ...  UsingPopupWindow  IframeRedirection  \\\n0           0      1            -1  ...                 1                  1   \n1          -1     -1            -1  ...                 1                  1   \n2          -1     -1             1  ...                 1                  1   \n\n   AgeofDomain  DNSRecording  WebsiteTraffic  PageRank  GoogleIndex  \\\n0           -1            -1               0        -1            1   \n1            1            -1               1        -1            1   \n2           -1            -1               1        -1            1   \n\n   LinksPointingToPage  StatsReport  class  \n0                    1            1     -1  \n1                    0           -1     -1  \n2                   -1            1     -1  \n\n[3 rows x 32 columns]",
            "text/html": "<div>\n<style scoped>\n    .dataframe tbody tr th:only-of-type {\n        vertical-align: middle;\n    }\n\n    .dataframe tbody tr th {\n        vertical-align: top;\n    }\n\n    .dataframe thead th {\n        text-align: right;\n    }\n</style>\n<table border=\"1\" class=\"dataframe\">\n  <thead>\n    <tr style=\"text-align: right;\">\n      <th></th>\n      <th>Index</th>\n      <th>UsingIP</th>\n      <th>LongURL</th>\n      <th>ShortURL</th>\n      <th>Symbol@</th>\n      <th>Redirecting//</th>\n      <th>PrefixSuffix-</th>\n      <th>SubDomains</th>\n      <th>HTTPS</th>\n      <th>DomainRegLen</th>\n      <th>...</th>\n      <th>UsingPopupWindow</th>\n      <th>IframeRedirection</th>\n      <th>AgeofDomain</th>\n      <th>DNSRecording</th>\n      <th>WebsiteTraffic</th>\n      <th>PageRank</th>\n      <th>GoogleIndex</th>\n      <th>LinksPointingToPage</th>\n      <th>StatsReport</th>\n      <th>class</th>\n    </tr>\n  </thead>\n  <tbody>\n    <tr>\n      <th>0</th>\n      <td>0</td>\n      <td>1</td>\n      <td>1</td>\n      <td>1</td>\n      <td>1</td>\n      <td>1</td>\n      <td>-1</td>\n      <td>0</td>\n      <td>1</td>\n      <td>-1</td>\n      <td>...</td>\n      <td>1</td>\n      <td>1</td>\n      <td>-1</td>\n      <td>-1</td>\n      <td>0</td>\n      <td>-1</td>\n      <td>1</td>\n      <td>1</td>\n      <td>1</td>\n      <td>-1</td>\n    </tr>\n    <tr>\n      <th>1</th>\n      <td>1</td>\n      <td>1</td>\n      <td>0</td>\n      <td>1</td>\n      <td>1</td>\n      <td>1</td>\n      <td>-1</td>\n      <td>-1</td>\n      <td>-1</td>\n      <td>-1</td>\n      <td>...</td>\n      <td>1</td>\n      <td>1</td>\n      <td>1</td>\n      <td>-1</td>\n      <td>1</td>\n      <td>-1</td>\n      <td>1</td>\n      <td>0</td>\n      <td>-1</td>\n      <td>-1</td>\n    </tr>\n    <tr>\n      <th>2</th>\n      <td>2</td>\n      <td>1</td>\n      <td>0</td>\n      <td>1</td>\n      <td>1</td>\n      <td>1</td>\n      <td>-1</td>\n      <td>-1</td>\n      <td>-1</td>\n      <td>1</td>\n      <td>...</td>\n      <td>1</td>\n      <td>1</td>\n      <td>-1</td>\n      <td>-1</td>\n      <td>1</td>\n      <td>-1</td>\n      <td>1</td>\n      <td>-1</td>\n      <td>1</td>\n      <td>-1</td>\n    </tr>\n  </tbody>\n</table>\n<p>3 rows × 32 columns</p>\n</div>"
          },
          "metadata": {}
        }
      ],
      "execution_count": null
    },
    {
      "cell_type": "code",
      "source": [
        "df.tail(3)"
      ],
      "metadata": {
        "trusted": true,
        "execution": {
          "iopub.status.busy": "2025-09-25T06:29:43.412995Z",
          "iopub.execute_input": "2025-09-25T06:29:43.413329Z",
          "iopub.status.idle": "2025-09-25T06:29:43.433475Z",
          "shell.execute_reply.started": "2025-09-25T06:29:43.413302Z",
          "shell.execute_reply": "2025-09-25T06:29:43.431978Z"
        },
        "id": "oFL0V5T0BvGl",
        "outputId": "d54f85dc-b5d8-4bc9-b9d6-889029bb7f33"
      },
      "outputs": [
        {
          "execution_count": 4,
          "output_type": "execute_result",
          "data": {
            "text/plain": "       Index  UsingIP  LongURL  ShortURL  Symbol@  Redirecting//  \\\n11051  11051        1       -1         1        1              1   \n11052  11052       -1       -1         1        1              1   \n11053  11053       -1       -1         1        1              1   \n\n       PrefixSuffix-  SubDomains  HTTPS  DomainRegLen  ...  UsingPopupWindow  \\\n11051             -1           1     -1            -1  ...                 1   \n11052             -1          -1     -1             1  ...                -1   \n11053             -1          -1     -1             1  ...                 1   \n\n       IframeRedirection  AgeofDomain  DNSRecording  WebsiteTraffic  PageRank  \\\n11051                  1            1             1               1        -1   \n11052                  1            1             1               1        -1   \n11053                  1           -1             1              -1        -1   \n\n       GoogleIndex  LinksPointingToPage  StatsReport  class  \n11051            1                    0            1     -1  \n11052            1                    1            1     -1  \n11053           -1                    1           -1     -1  \n\n[3 rows x 32 columns]",
            "text/html": "<div>\n<style scoped>\n    .dataframe tbody tr th:only-of-type {\n        vertical-align: middle;\n    }\n\n    .dataframe tbody tr th {\n        vertical-align: top;\n    }\n\n    .dataframe thead th {\n        text-align: right;\n    }\n</style>\n<table border=\"1\" class=\"dataframe\">\n  <thead>\n    <tr style=\"text-align: right;\">\n      <th></th>\n      <th>Index</th>\n      <th>UsingIP</th>\n      <th>LongURL</th>\n      <th>ShortURL</th>\n      <th>Symbol@</th>\n      <th>Redirecting//</th>\n      <th>PrefixSuffix-</th>\n      <th>SubDomains</th>\n      <th>HTTPS</th>\n      <th>DomainRegLen</th>\n      <th>...</th>\n      <th>UsingPopupWindow</th>\n      <th>IframeRedirection</th>\n      <th>AgeofDomain</th>\n      <th>DNSRecording</th>\n      <th>WebsiteTraffic</th>\n      <th>PageRank</th>\n      <th>GoogleIndex</th>\n      <th>LinksPointingToPage</th>\n      <th>StatsReport</th>\n      <th>class</th>\n    </tr>\n  </thead>\n  <tbody>\n    <tr>\n      <th>11051</th>\n      <td>11051</td>\n      <td>1</td>\n      <td>-1</td>\n      <td>1</td>\n      <td>1</td>\n      <td>1</td>\n      <td>-1</td>\n      <td>1</td>\n      <td>-1</td>\n      <td>-1</td>\n      <td>...</td>\n      <td>1</td>\n      <td>1</td>\n      <td>1</td>\n      <td>1</td>\n      <td>1</td>\n      <td>-1</td>\n      <td>1</td>\n      <td>0</td>\n      <td>1</td>\n      <td>-1</td>\n    </tr>\n    <tr>\n      <th>11052</th>\n      <td>11052</td>\n      <td>-1</td>\n      <td>-1</td>\n      <td>1</td>\n      <td>1</td>\n      <td>1</td>\n      <td>-1</td>\n      <td>-1</td>\n      <td>-1</td>\n      <td>1</td>\n      <td>...</td>\n      <td>-1</td>\n      <td>1</td>\n      <td>1</td>\n      <td>1</td>\n      <td>1</td>\n      <td>-1</td>\n      <td>1</td>\n      <td>1</td>\n      <td>1</td>\n      <td>-1</td>\n    </tr>\n    <tr>\n      <th>11053</th>\n      <td>11053</td>\n      <td>-1</td>\n      <td>-1</td>\n      <td>1</td>\n      <td>1</td>\n      <td>1</td>\n      <td>-1</td>\n      <td>-1</td>\n      <td>-1</td>\n      <td>1</td>\n      <td>...</td>\n      <td>1</td>\n      <td>1</td>\n      <td>-1</td>\n      <td>1</td>\n      <td>-1</td>\n      <td>-1</td>\n      <td>-1</td>\n      <td>1</td>\n      <td>-1</td>\n      <td>-1</td>\n    </tr>\n  </tbody>\n</table>\n<p>3 rows × 32 columns</p>\n</div>"
          },
          "metadata": {}
        }
      ],
      "execution_count": null
    },
    {
      "cell_type": "code",
      "source": [
        "df.info()"
      ],
      "metadata": {
        "trusted": true,
        "execution": {
          "iopub.status.busy": "2025-09-25T06:31:06.371931Z",
          "iopub.execute_input": "2025-09-25T06:31:06.374237Z",
          "iopub.status.idle": "2025-09-25T06:31:06.404638Z",
          "shell.execute_reply.started": "2025-09-25T06:31:06.374197Z",
          "shell.execute_reply": "2025-09-25T06:31:06.403622Z"
        },
        "id": "2C7uLpySBvGm",
        "outputId": "51cb6e5f-7e13-41e2-cac0-cfb527426298"
      },
      "outputs": [
        {
          "name": "stdout",
          "text": "<class 'pandas.core.frame.DataFrame'>\nRangeIndex: 11054 entries, 0 to 11053\nData columns (total 32 columns):\n #   Column               Non-Null Count  Dtype\n---  ------               --------------  -----\n 0   Index                11054 non-null  int64\n 1   UsingIP              11054 non-null  int64\n 2   LongURL              11054 non-null  int64\n 3   ShortURL             11054 non-null  int64\n 4   Symbol@              11054 non-null  int64\n 5   Redirecting//        11054 non-null  int64\n 6   PrefixSuffix-        11054 non-null  int64\n 7   SubDomains           11054 non-null  int64\n 8   HTTPS                11054 non-null  int64\n 9   DomainRegLen         11054 non-null  int64\n 10  Favicon              11054 non-null  int64\n 11  NonStdPort           11054 non-null  int64\n 12  HTTPSDomainURL       11054 non-null  int64\n 13  RequestURL           11054 non-null  int64\n 14  AnchorURL            11054 non-null  int64\n 15  LinksInScriptTags    11054 non-null  int64\n 16  ServerFormHandler    11054 non-null  int64\n 17  InfoEmail            11054 non-null  int64\n 18  AbnormalURL          11054 non-null  int64\n 19  WebsiteForwarding    11054 non-null  int64\n 20  StatusBarCust        11054 non-null  int64\n 21  DisableRightClick    11054 non-null  int64\n 22  UsingPopupWindow     11054 non-null  int64\n 23  IframeRedirection    11054 non-null  int64\n 24  AgeofDomain          11054 non-null  int64\n 25  DNSRecording         11054 non-null  int64\n 26  WebsiteTraffic       11054 non-null  int64\n 27  PageRank             11054 non-null  int64\n 28  GoogleIndex          11054 non-null  int64\n 29  LinksPointingToPage  11054 non-null  int64\n 30  StatsReport          11054 non-null  int64\n 31  class                11054 non-null  int64\ndtypes: int64(32)\nmemory usage: 2.7 MB\n",
          "output_type": "stream"
        }
      ],
      "execution_count": null
    },
    {
      "cell_type": "code",
      "source": [
        "df.isnull().sum()"
      ],
      "metadata": {
        "trusted": true,
        "execution": {
          "iopub.status.busy": "2025-09-25T06:31:18.093356Z",
          "iopub.execute_input": "2025-09-25T06:31:18.093785Z",
          "iopub.status.idle": "2025-09-25T06:31:18.108918Z",
          "shell.execute_reply.started": "2025-09-25T06:31:18.093753Z",
          "shell.execute_reply": "2025-09-25T06:31:18.10761Z"
        },
        "id": "Ll00VeYYBvGm",
        "outputId": "1c95f249-63ad-4efa-e2bb-a220f7b57bc9"
      },
      "outputs": [
        {
          "execution_count": 6,
          "output_type": "execute_result",
          "data": {
            "text/plain": "Index                  0\nUsingIP                0\nLongURL                0\nShortURL               0\nSymbol@                0\nRedirecting//          0\nPrefixSuffix-          0\nSubDomains             0\nHTTPS                  0\nDomainRegLen           0\nFavicon                0\nNonStdPort             0\nHTTPSDomainURL         0\nRequestURL             0\nAnchorURL              0\nLinksInScriptTags      0\nServerFormHandler      0\nInfoEmail              0\nAbnormalURL            0\nWebsiteForwarding      0\nStatusBarCust          0\nDisableRightClick      0\nUsingPopupWindow       0\nIframeRedirection      0\nAgeofDomain            0\nDNSRecording           0\nWebsiteTraffic         0\nPageRank               0\nGoogleIndex            0\nLinksPointingToPage    0\nStatsReport            0\nclass                  0\ndtype: int64"
          },
          "metadata": {}
        }
      ],
      "execution_count": null
    },
    {
      "cell_type": "markdown",
      "source": [
        "## 03.Train the data\n"
      ],
      "metadata": {
        "id": "qa2BpAvABvGn"
      }
    },
    {
      "cell_type": "code",
      "source": [
        "# Features and target\n",
        "X = df.drop(columns=[\"class\", \"Index\"])   # drop 'class' (target) and 'Index' (just ID)\n",
        "y = df[\"class\"]"
      ],
      "metadata": {
        "trusted": true,
        "execution": {
          "iopub.status.busy": "2025-09-25T06:32:43.87968Z",
          "iopub.execute_input": "2025-09-25T06:32:43.880023Z",
          "iopub.status.idle": "2025-09-25T06:32:43.889321Z",
          "shell.execute_reply.started": "2025-09-25T06:32:43.879991Z",
          "shell.execute_reply": "2025-09-25T06:32:43.888066Z"
        },
        "id": "EzhUbl43BvGn"
      },
      "outputs": [],
      "execution_count": null
    },
    {
      "cell_type": "code",
      "source": [
        "# Train-test split (20% test data, reproducible)\n",
        "X_train, X_test, y_train, y_test = train_test_split(\n",
        "    X, y, test_size=0.2, random_state=42\n",
        ")\n",
        "\n",
        "# Scale features (only X, not y)\n",
        "scaler = StandardScaler()\n",
        "X_train = scaler.fit_transform(X_train)\n",
        "X_test = scaler.transform(X_test)\n",
        "\n",
        "# Train Random Forest\n",
        "model = RandomForestClassifier(random_state=42)\n",
        "model.fit(X_train, y_train)\n"
      ],
      "metadata": {
        "trusted": true,
        "execution": {
          "iopub.status.busy": "2025-09-25T06:43:03.268653Z",
          "iopub.execute_input": "2025-09-25T06:43:03.269298Z",
          "iopub.status.idle": "2025-09-25T06:43:03.999826Z",
          "shell.execute_reply.started": "2025-09-25T06:43:03.269266Z",
          "shell.execute_reply": "2025-09-25T06:43:03.998672Z"
        },
        "id": "9Yte9k9uBvGn",
        "outputId": "61608a11-b26a-4fc5-da6a-c5ab193a3f80"
      },
      "outputs": [
        {
          "execution_count": 9,
          "output_type": "execute_result",
          "data": {
            "text/plain": "RandomForestClassifier(random_state=42)",
            "text/html": "<style>#sk-container-id-1 {color: black;background-color: white;}#sk-container-id-1 pre{padding: 0;}#sk-container-id-1 div.sk-toggleable {background-color: white;}#sk-container-id-1 label.sk-toggleable__label {cursor: pointer;display: block;width: 100%;margin-bottom: 0;padding: 0.3em;box-sizing: border-box;text-align: center;}#sk-container-id-1 label.sk-toggleable__label-arrow:before {content: \"▸\";float: left;margin-right: 0.25em;color: #696969;}#sk-container-id-1 label.sk-toggleable__label-arrow:hover:before {color: black;}#sk-container-id-1 div.sk-estimator:hover label.sk-toggleable__label-arrow:before {color: black;}#sk-container-id-1 div.sk-toggleable__content {max-height: 0;max-width: 0;overflow: hidden;text-align: left;background-color: #f0f8ff;}#sk-container-id-1 div.sk-toggleable__content pre {margin: 0.2em;color: black;border-radius: 0.25em;background-color: #f0f8ff;}#sk-container-id-1 input.sk-toggleable__control:checked~div.sk-toggleable__content {max-height: 200px;max-width: 100%;overflow: auto;}#sk-container-id-1 input.sk-toggleable__control:checked~label.sk-toggleable__label-arrow:before {content: \"▾\";}#sk-container-id-1 div.sk-estimator input.sk-toggleable__control:checked~label.sk-toggleable__label {background-color: #d4ebff;}#sk-container-id-1 div.sk-label input.sk-toggleable__control:checked~label.sk-toggleable__label {background-color: #d4ebff;}#sk-container-id-1 input.sk-hidden--visually {border: 0;clip: rect(1px 1px 1px 1px);clip: rect(1px, 1px, 1px, 1px);height: 1px;margin: -1px;overflow: hidden;padding: 0;position: absolute;width: 1px;}#sk-container-id-1 div.sk-estimator {font-family: monospace;background-color: #f0f8ff;border: 1px dotted black;border-radius: 0.25em;box-sizing: border-box;margin-bottom: 0.5em;}#sk-container-id-1 div.sk-estimator:hover {background-color: #d4ebff;}#sk-container-id-1 div.sk-parallel-item::after {content: \"\";width: 100%;border-bottom: 1px solid gray;flex-grow: 1;}#sk-container-id-1 div.sk-label:hover label.sk-toggleable__label {background-color: #d4ebff;}#sk-container-id-1 div.sk-serial::before {content: \"\";position: absolute;border-left: 1px solid gray;box-sizing: border-box;top: 0;bottom: 0;left: 50%;z-index: 0;}#sk-container-id-1 div.sk-serial {display: flex;flex-direction: column;align-items: center;background-color: white;padding-right: 0.2em;padding-left: 0.2em;position: relative;}#sk-container-id-1 div.sk-item {position: relative;z-index: 1;}#sk-container-id-1 div.sk-parallel {display: flex;align-items: stretch;justify-content: center;background-color: white;position: relative;}#sk-container-id-1 div.sk-item::before, #sk-container-id-1 div.sk-parallel-item::before {content: \"\";position: absolute;border-left: 1px solid gray;box-sizing: border-box;top: 0;bottom: 0;left: 50%;z-index: -1;}#sk-container-id-1 div.sk-parallel-item {display: flex;flex-direction: column;z-index: 1;position: relative;background-color: white;}#sk-container-id-1 div.sk-parallel-item:first-child::after {align-self: flex-end;width: 50%;}#sk-container-id-1 div.sk-parallel-item:last-child::after {align-self: flex-start;width: 50%;}#sk-container-id-1 div.sk-parallel-item:only-child::after {width: 0;}#sk-container-id-1 div.sk-dashed-wrapped {border: 1px dashed gray;margin: 0 0.4em 0.5em 0.4em;box-sizing: border-box;padding-bottom: 0.4em;background-color: white;}#sk-container-id-1 div.sk-label label {font-family: monospace;font-weight: bold;display: inline-block;line-height: 1.2em;}#sk-container-id-1 div.sk-label-container {text-align: center;}#sk-container-id-1 div.sk-container {/* jupyter's `normalize.less` sets `[hidden] { display: none; }` but bootstrap.min.css set `[hidden] { display: none !important; }` so we also need the `!important` here to be able to override the default hidden behavior on the sphinx rendered scikit-learn.org. See: https://github.com/scikit-learn/scikit-learn/issues/21755 */display: inline-block !important;position: relative;}#sk-container-id-1 div.sk-text-repr-fallback {display: none;}</style><div id=\"sk-container-id-1\" class=\"sk-top-container\"><div class=\"sk-text-repr-fallback\"><pre>RandomForestClassifier(random_state=42)</pre><b>In a Jupyter environment, please rerun this cell to show the HTML representation or trust the notebook. <br />On GitHub, the HTML representation is unable to render, please try loading this page with nbviewer.org.</b></div><div class=\"sk-container\" hidden><div class=\"sk-item\"><div class=\"sk-estimator sk-toggleable\"><input class=\"sk-toggleable__control sk-hidden--visually\" id=\"sk-estimator-id-1\" type=\"checkbox\" checked><label for=\"sk-estimator-id-1\" class=\"sk-toggleable__label sk-toggleable__label-arrow\">RandomForestClassifier</label><div class=\"sk-toggleable__content\"><pre>RandomForestClassifier(random_state=42)</pre></div></div></div></div></div>"
          },
          "metadata": {}
        }
      ],
      "execution_count": null
    },
    {
      "cell_type": "markdown",
      "source": [
        "## 04.Accuracy Score"
      ],
      "metadata": {
        "id": "T3umTHF6BvGo"
      }
    },
    {
      "cell_type": "code",
      "source": [
        "# Predict\n",
        "y_pred = model.predict(X_test)"
      ],
      "metadata": {
        "trusted": true,
        "execution": {
          "iopub.status.busy": "2025-09-25T06:44:16.331042Z",
          "iopub.execute_input": "2025-09-25T06:44:16.332365Z",
          "iopub.status.idle": "2025-09-25T06:44:16.390259Z",
          "shell.execute_reply.started": "2025-09-25T06:44:16.332319Z",
          "shell.execute_reply": "2025-09-25T06:44:16.388976Z"
        },
        "id": "WDbuPImQBvGo"
      },
      "outputs": [],
      "execution_count": null
    },
    {
      "cell_type": "code",
      "source": [
        "# Evaluate\n",
        "print(\"Accuracy:\", accuracy_score(y_test, y_pred))"
      ],
      "metadata": {
        "trusted": true,
        "execution": {
          "iopub.status.busy": "2025-09-25T06:44:48.667035Z",
          "iopub.execute_input": "2025-09-25T06:44:48.66738Z",
          "iopub.status.idle": "2025-09-25T06:44:48.676764Z",
          "shell.execute_reply.started": "2025-09-25T06:44:48.667356Z",
          "shell.execute_reply": "2025-09-25T06:44:48.675493Z"
        },
        "id": "TxL72vdtBvGo",
        "outputId": "e91b9781-b829-4d51-cbe5-fb5b99497baa"
      },
      "outputs": [
        {
          "name": "stdout",
          "text": "Accuracy: 0.9692446856625961\n",
          "output_type": "stream"
        }
      ],
      "execution_count": null
    }
  ]
}